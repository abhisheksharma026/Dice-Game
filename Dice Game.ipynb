{
 "cells": [
  {
   "cell_type": "markdown",
   "metadata": {},
   "source": [
    "##### Project Overview :\n",
    "\n",
    "In this series of three programming tasks, we will implement together a program that will play optimally in a tricky dice game! You program will be given a list of dices and will decide who chooses the dice first (you or your opponent).\n",
    "\n",
    "When the dices are chosen, we will simulate 10000 throws. \n",
    "\n",
    "- Each time your number is greater, you get \\$1 from your opponent. \n",
    "- Conversely, each time your number is smaller, you pay \\$1 to your opponent.\n",
    "\n",
    "Your ultimate goal is to implement a program that always wins in such a simulation."
   ]
  },
  {
   "cell_type": "markdown",
   "metadata": {},
   "source": [
    "###### First Task: Compare Two Dices\n",
    "    \n",
    "Implement a function that takes two dices as input and computes two values: the first value is the number of times the first dice wins (out of all possible 36 choices), the second value is the number of times the second dice wins. We say that a dice wins if the number on it is greater than the number on the other dice.\n",
    "\n",
    "To debug your implementation, use the following test cases:\n",
    "\n",
    "- Sample 1\n",
    "\n",
    "    * Input: dice1 = [1, 2, 3, 4, 5, 6], dice2 = [1, 2, 3, 4, 5, 6]\n",
    "    * Output: (15, 15)\n",
    "\n",
    "- Sample 2\n",
    "\n",
    "    * Input: dice1 = [1, 1, 6, 6, 8, 8], dice2 = [2, 2, 4, 4, 9, 9]\n",
    "    * Output: (16, 20)"
   ]
  },
  {
   "cell_type": "code",
   "execution_count": 1,
   "metadata": {},
   "outputs": [
    {
     "name": "stdout",
     "output_type": "stream",
     "text": [
      "(15, 15)\n",
      "(16, 20)\n"
     ]
    }
   ],
   "source": [
    "def count_wins(dice1, dice2):\n",
    "    \n",
    "    assert len(dice1) == 6 and len(dice2) == 6\n",
    "    dice1_wins, dice2_wins = 0, 0\n",
    "\n",
    "    for dice1_result in dice1: # Build sample space  \n",
    "        for dice2_result in dice2:\n",
    "\n",
    "            if dice1_result > dice2_result:\n",
    "                dice1_wins += 1\n",
    "            elif dice2_result > dice1_result:\n",
    "                dice2_wins += 1\n",
    "                \n",
    "    return (dice1_wins, dice2_wins)\n",
    "\n",
    "# Test Cases\n",
    "print(count_wins([1, 2, 3, 4, 5, 6], [1, 2, 3, 4, 5, 6]))\n",
    "print(count_wins([1, 1, 6, 6, 8, 8], [2, 2, 4, 4, 9, 9]))"
   ]
  },
  {
   "cell_type": "markdown",
   "metadata": {},
   "source": [
    "###### Second Task: Is there the Best Dice?\n",
    "\n",
    "Now, your goal is to check whether among the three given dices there is one that is better than the remaining two dices.\n",
    "\n",
    "Implement a function that takes a list of dices and checks whether there is dice (in this list) that is better than all other dices. \n",
    "\n",
    "We say that a dice is better than another one, if it wins more frequently (that is, out of all 36 possibilities, it wins in a cases, while the second one wins in b cases, and a>b). If there is such a dice, return its (0-based) index. Otherwise, return -1.\n",
    "\n",
    "Use the following datasets for debugging:\n",
    "- Sample 1\n",
    "\n",
    "     * Input: [[1, 1, 6, 6, 8, 8], [2, 2, 4, 4, 9, 9], [3, 3, 5, 5, 7, 7]]\n",
    "     * Output: -1\n",
    "\n",
    "- Sample 2\n",
    "\n",
    "    * Input: [[1, 1, 2, 4, 5, 7], [1, 2, 2, 3, 4, 7], [1, 2, 3, 4, 5, 6]]\n",
    "    * Output: 2\n",
    "\n",
    "- Sample 3\n",
    "\n",
    "    * Input: [[3, 3, 3, 3, 3, 3], [6, 6, 2, 2, 2,2], [4, 4, 4, 4, 0, 0], [5, 5, 5, 1, 1, 1]]\n",
    "    * Output: -1"
   ]
  },
  {
   "cell_type": "code",
   "execution_count": 2,
   "metadata": {},
   "outputs": [
    {
     "name": "stdout",
     "output_type": "stream",
     "text": [
      "-1\n"
     ]
    }
   ],
   "source": [
    "def find_the_best_dice(dices):\n",
    "    assert all(len(dice) == 6 for dice in dices)\n",
    "    for i in range(len(dices)):\n",
    "        # This also tracks the index of the current dice\n",
    "        win = 0\n",
    "        for j in range(len(dices)):\n",
    "            # Exclude comparing with the same dice\n",
    "            if i!=j:\n",
    "                wins = count_wins(dices[i], dices[j])\n",
    "                if wins[0] > wins[1]: # If current dice won\n",
    "                    win+=1 # update count wins of the current dice\n",
    "\n",
    "        if win == len(dices) - 1: # It won against all, best dice\n",
    "            return i\n",
    "        \n",
    "    return -1 # if none won against others, return -1(False)\n",
    "                    \n",
    "# find_the_best_dice([[1, 1, 6, 6, 8, 8], [2, 2, 4, 4, 9, 9], [3, 3, 5, 5, 7, 7]])\n",
    "# find_the_best_dice([[1, 1, 2, 4, 5, 7], [1, 2, 2, 3, 4, 7], [1, 2, 3, 4, 5, 6]])\n",
    "print(find_the_best_dice([[3, 3, 3, 3, 3, 3], \n",
    "                    [6, 6, 2, 2, 2, 2],\n",
    "                    [4, 4, 4, 4, 0, 0], \n",
    "                    [5, 5, 5, 1, 1, 1]]))"
   ]
  },
  {
   "cell_type": "markdown",
   "metadata": {},
   "source": [
    "###### Third Task: Implement a Strategy\n",
    "    \n",
    "You are now ready to play!\n",
    "\n",
    "Implement a function that takes a list of dices (possibly more than three) and returns a strategy. The strategy is a dictionary:\n",
    "\n",
    "If, after analyzing the given list of dices, you decide to choose a dice first, set strategy[\"choose_first\"] to True and set strategy[\"first_dice\"] to be the (0-based) index of the dice you would like to choose\n",
    "\n",
    "If you would like to be the second one to choose a dice, set strategy[\"choose_first\"] to False. Then, specify, for each dice that your opponent may take, the dice that you would take in return. Namely, for each i from 0 to len(dices)-1, set strategy[i] to an index j of the dice that you would take if the opponent takes the i-th dice first."
   ]
  },
  {
   "cell_type": "markdown",
   "metadata": {},
   "source": [
    "Use the following datasets for debugging:\n",
    "\n",
    "- Sample 1\n",
    "\n",
    "    * Input: [[1, 1, 4, 6, 7, 8], [2, 2, 2, 6, 7, 7], [3, 3, 3, 5, 5, 8]]\n",
    "    * Output: {'choose_first': False, 0: 1, 1: 2, 2: 0}\n",
    "\n",
    "- Sample 2\n",
    "\n",
    "    * Input: [[4, 4, 4, 4, 0, 0], [7, 7, 3, 3, 3, 3], [6, 6, 2, 2, 2, 2], [5, 5, 5, 1, 1, 1]]\n",
    "    * Output: {'choose_first': True, 'first_dice': 1}"
   ]
  },
  {
   "cell_type": "code",
   "execution_count": 3,
   "metadata": {},
   "outputs": [],
   "source": [
    "def compute_strategy(dices):\n",
    "    \"\"\"\n",
    "    Test b/w 2 startegies of going first or 2nd\n",
    "    \"\"\"\n",
    "    assert all(len(dice) == 6 for dice in dices)\n",
    "    strategy = dict()\n",
    "    \n",
    "    # Default Values\n",
    "    strategy[\"choose_first\"] = True\n",
    "    strategy[\"first_dice\"] = 0\n",
    "    \n",
    "    bestDice = find_the_best_dice(dices)\n",
    "    \n",
    "    if bestDice != -1:\n",
    "        # We have a dice which performs best\n",
    "        strategy[\"choose_first\"] = True\n",
    "        strategy[\"first_dice\"] = bestDice\n",
    "    else:\n",
    "        strategy[\"choose_first\"] = False\n",
    "        strategy.pop(\"first_dice\", None)\n",
    "        for i in range(len(dices)):\n",
    "            for k in range(i+1, len(dices)): # Excluding the current one for comparison\n",
    "                wins = count_wins(dices[i], dices[k])\n",
    "                if wins[0] < wins[1]: # Other dice is better; choose that as strategy\n",
    "                    strategy[i] = k\n",
    "                elif wins[0] > wins[1]:\n",
    "                    strategy[k] = i\n",
    "                    \n",
    "    return strategy\n",
    " "
   ]
  },
  {
   "cell_type": "code",
   "execution_count": 4,
   "metadata": {},
   "outputs": [
    {
     "name": "stdout",
     "output_type": "stream",
     "text": [
      "{'choose_first': False, 0: 1, 2: 0, 1: 2}\n",
      "{'choose_first': True, 'first_dice': 1}\n",
      "{'choose_first': False, 1: 0, 0: 3, 2: 1, 3: 2}\n"
     ]
    }
   ],
   "source": [
    "print(compute_strategy([[1, 1, 4, 6, 7, 8], [2, 2, 2, 6, 7, 7], [3, 3, 3, 5, 5, 8]]))\n",
    "\n",
    "print(compute_strategy( [[4, 4, 4, 4, 0, 0], \n",
    "                   [7, 7, 3, 3, 3, 3], \n",
    "                   [6, 6, 2, 2, 2, 2], \n",
    "                   [5, 5, 5, 1, 1, 1]]))\n",
    "\n",
    "print(compute_strategy([[4, 4, 4, 4, 0, 0], \n",
    "                  [3, 3, 3, 3, 3, 3], \n",
    "                  [6, 6, 2, 2, 2, 2], \n",
    "                  [5, 5, 5, 1, 1, 1]]))"
   ]
  }
 ],
 "metadata": {
  "kernelspec": {
   "display_name": "Python 3",
   "language": "python",
   "name": "python3"
  },
  "language_info": {
   "codemirror_mode": {
    "name": "ipython",
    "version": 3
   },
   "file_extension": ".py",
   "mimetype": "text/x-python",
   "name": "python",
   "nbconvert_exporter": "python",
   "pygments_lexer": "ipython3",
   "version": "3.6.7"
  }
 },
 "nbformat": 4,
 "nbformat_minor": 2
}
